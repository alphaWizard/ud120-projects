{
 "cells": [
  {
   "cell_type": "code",
   "execution_count": 21,
   "metadata": {},
   "outputs": [
    {
     "name": "stdout",
     "output_type": "stream",
     "text": [
      "                      bonus deferral_payments deferred_income director_fees  \\\n",
      "ALLEN PHILLIP K     4175000           2869717        -3081055           NaN   \n",
      "BADUM JAMES P           NaN            178980             NaN           NaN   \n",
      "BANNANTINE JAMES M      NaN               NaN           -5104           NaN   \n",
      "BAXTER JOHN C       1200000           1295738        -1386055           NaN   \n",
      "BAY FRANKLIN R       400000            260455         -201641           NaN   \n",
      "\n",
      "                                 email_address exercised_stock_options  \\\n",
      "ALLEN PHILLIP K        phillip.allen@enron.com                 1729541   \n",
      "BADUM JAMES P                              NaN                  257817   \n",
      "BANNANTINE JAMES M  james.bannantine@enron.com                 4046157   \n",
      "BAXTER JOHN C                              NaN                 6680544   \n",
      "BAY FRANKLIN R             frank.bay@enron.com                     NaN   \n",
      "\n",
      "                   expenses from_messages from_poi_to_this_person  \\\n",
      "ALLEN PHILLIP K       13868          2195                      47   \n",
      "BADUM JAMES P          3486           NaN                     NaN   \n",
      "BANNANTINE JAMES M    56301            29                      39   \n",
      "BAXTER JOHN C         11200           NaN                     NaN   \n",
      "BAY FRANKLIN R       129142           NaN                     NaN   \n",
      "\n",
      "                   from_this_person_to_poi        ...         \\\n",
      "ALLEN PHILLIP K                         65        ...          \n",
      "BADUM JAMES P                          NaN        ...          \n",
      "BANNANTINE JAMES M                       0        ...          \n",
      "BAXTER JOHN C                          NaN        ...          \n",
      "BAY FRANKLIN R                         NaN        ...          \n",
      "\n",
      "                   long_term_incentive    other    poi restricted_stock  \\\n",
      "ALLEN PHILLIP K                 304805      152  False           126027   \n",
      "BADUM JAMES P                      NaN      NaN  False              NaN   \n",
      "BANNANTINE JAMES M                 NaN   864523  False          1757552   \n",
      "BAXTER JOHN C                  1586055  2660303  False          3942714   \n",
      "BAY FRANKLIN R                     NaN       69  False           145796   \n",
      "\n",
      "                   restricted_stock_deferred  salary shared_receipt_with_poi  \\\n",
      "ALLEN PHILLIP K                      -126027  201955                    1407   \n",
      "BADUM JAMES P                            NaN     NaN                     NaN   \n",
      "BANNANTINE JAMES M                   -560222     477                     465   \n",
      "BAXTER JOHN C                            NaN  267102                     NaN   \n",
      "BAY FRANKLIN R                        -82782  239671                     NaN   \n",
      "\n",
      "                   to_messages total_payments total_stock_value  \n",
      "ALLEN PHILLIP K           2902        4484442           1729541  \n",
      "BADUM JAMES P              NaN         182466            257817  \n",
      "BANNANTINE JAMES M         566         916197           5243487  \n",
      "BAXTER JOHN C              NaN        5634343          10623258  \n",
      "BAY FRANKLIN R             NaN         827696             63014  \n",
      "\n",
      "[5 rows x 21 columns]\n"
     ]
    }
   ],
   "source": [
    "import pickle\n",
    "\n",
    "enron_data = pickle.load(open(\"../final_project/final_project_dataset.pkl\", \"r\"))\n",
    "\n",
    "import pandas as pd\n",
    "df = pd.DataFrame(enron_data)\n",
    "df =df.transpose()\n",
    "print df.head()"
   ]
  },
  {
   "cell_type": "code",
   "execution_count": null,
   "metadata": {},
   "outputs": [],
   "source": []
  },
  {
   "cell_type": "code",
   "execution_count": null,
   "metadata": {},
   "outputs": [],
   "source": []
  }
 ],
 "metadata": {
  "kernelspec": {
   "display_name": "Python 2",
   "language": "python",
   "name": "python2"
  },
  "language_info": {
   "codemirror_mode": {
    "name": "ipython",
    "version": 2
   },
   "file_extension": ".py",
   "mimetype": "text/x-python",
   "name": "python",
   "nbconvert_exporter": "python",
   "pygments_lexer": "ipython2",
   "version": "2.7.15"
  }
 },
 "nbformat": 4,
 "nbformat_minor": 2
}
